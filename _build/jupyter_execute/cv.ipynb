{
 "cells": [
  {
   "cell_type": "markdown",
   "id": "5f8c7081",
   "metadata": {},
   "source": [
    "# Curriculum Vitae\n",
    "\n",
    "<em>Name:</em> Alex Do  \n",
    "<em>Email:</em> <alex.do@email.com>  \n",
    "<em>Location:</em> New York, NY  \n",
    "\n",
    "<u>Summary:</u>  \n",
    "As a data scientist with a PhD degree and 5 years of work experience (see my [experience](Experience)), I have a deep understanding of statistical modeling, machine learning, and data visualization. My career has been focused on solving complex business problems through the use of data-driven insights, and I have a proven track record of delivering measurable results (see [experience](Experience) section). As a data scientist with a PhD degree and 5 years of work experience (see my [education](Education) section), I have a deep understanding of statistical modeling, machine learning, and data visualization (more details in [skills](Skills) section). My career has been focused on solving complex business problems through the use of data-driven insights, and I have a proven track record of delivering measurable results (see [experience](Experience) section). Example of my work can be found [here](analysis_example.ipynb).\n",
    "\n",
    "<a name=\"Education\"></a>\n",
    "<span style=\"color:blue\">Education:</span>  \n",
    "* PhD in Computer Science, New York University, 2013-2018\n",
    "* MS in Computer Science, University of California, Los Angeles, 2011-2013\n",
    "* BS in Computer Science, University of Illinois at Urbana-Champaign, 2007-2011\n",
    "\n",
    "<a name=\"Skills\"></a>\n",
    "<span style=\"color:blue\"> Skills:</span>  \n",
    "* Strong knowledge of statistical modeling and machine learning techniques\n",
    "* Expertise in data cleaning, feature engineering, and model selection\n",
    "* Proficient in programming languages including Python, R, and SQL\n",
    "* Experience with data analysis tools such as Tableau and PowerBI\n",
    "* Excellent project management skills with experience leading cross-functional teams\n",
    "* Strong communication and presentation skills with the ability to convey complex data insights to both technical and non-technical audiences\n",
    "\n",
    "<a name=\"Experience\"></a>\n",
    "<span style=\"color:blue\"> Professional Experience:</span>  \n",
    "```{dropdown} **Data Scientist, ABC Corporation, New York, NY, 2018-present** \n",
    "* Lead data scientist for a team of five data scientists working on projects in finance, healthcare, and retail industries\n",
    "* Developed machine learning models to predict customer churn and identify upsell opportunities for a retail client, resulting in a 20% increase in revenue\n",
    "* Created a dashboard to visualize customer engagement metrics for a healthcare client, resulting in a 15% increase in patient satisfaction scores\n",
    "* Conducted data analysis and provided recommendations to executive leadership on strategic initiatives\n",
    "Mentored junior data scientists on best practices for data analysis and machine learning\n",
    "```\n",
    "```{dropdown} **Data Scientist, XYZ Corporation, Los Angeles, CA, 2016-2018**  \n",
    "* Conducted data analysis to identify opportunities for cost savings in the supply chain, resulting in a 10% reduction in supply chain costs\n",
    "* Developed machine learning models to predict customer behavior for a financial client, resulting in a 25% increase in loan approvals\n",
    "* Created a dashboard to visualize key performance metrics for a marketing campaign, resulting in a 30% increase in conversions\n",
    "* Collaborated with cross-functional teams to develop and implement data-driven solutions\n",
    "```\n",
    "``` {dropdown} **Data Analyst, DEF Corporation, Urbana-Champaign, IL, 2011-2016**  \n",
    "* data analysis to identify opportunities for process improvement in manufacturing operations\n",
    "* Created reports and dashboards to visualize key performance metrics for executive leadership\n",
    "* Collaborated with cross-functional teams to implement process improvements\n",
    "```\n",
    "\n",
    "<span style=\"color:blue\"> Certifications:</span>  \n",
    "To satisfy my eagerness for knowledge, I enroll in online courses in areas of Artificial Intelligence and Software Engineering that pique my interest and undertake independent projects during my leisure hours. A few examples of such projects include:\n",
    "\n",
    "::::{grid}\n",
    ":gutter: 2  \n",
    "\n",
    ":::{grid-item-card}\n",
    "*   Microsoft Certified: Azure Data Scientist Associate\n",
    "*   AWS Certified: Machine Learning – Specialty\n",
    "*   Deep Learning Specialization - Coursera\n",
    "*   Machine Learning Engineer Nanodegree - Udacity\n",
    "*   Mathematics for Machine Learning Specialization - Coursera\n",
    ":::\n",
    "\n",
    ":::{grid-item-card}     \n",
    "*   React Nanodegree - Udacity\n",
    "*   Statistics Specialization: Introduction to Probability and Data, Inferential Statistics - by Duke University - Coursera\n",
    "*   Python Data Science and Machine Learning Bootcamp - Udemy\n",
    ":::\n",
    "::::\n",
    "\n",
    "<span style=\"color:blue\"> Publications:</span>  \n",
    "* mith, J., and Jones, L. \"A Comparative Analysis of Machine Learning Techniques for Predicting Customer Churn,\" Journal of Data Science, Vol. 5, No. 2, 2019.\n",
    "\n",
    "<span style=\"color:blue\"> Professional Memberships:</span>  \n",
    "* Member, Data Science Association\n",
    "* Member, American Statistical Association\n",
    "* Member, Institute of Electrical and Electronics Engineers (IEEE)"
   ]
  }
 ],
 "metadata": {
  "jupytext": {
   "formats": "md:myst",
   "text_representation": {
    "extension": ".md",
    "format_name": "myst",
    "format_version": 0.13,
    "jupytext_version": "1.17.2"
   }
  },
  "kernelspec": {
   "display_name": "Python (base)",
   "language": "python",
   "name": "base"
  },
  "language_info": {
   "codemirror_mode": {
    "name": "ipython",
    "version": 3
   },
   "file_extension": ".py",
   "mimetype": "text/x-python",
   "name": "python",
   "nbconvert_exporter": "python",
   "pygments_lexer": "ipython3",
   "version": "3.13.5"
  },
  "source_map": [
   13
  ]
 },
 "nbformat": 4,
 "nbformat_minor": 5
}